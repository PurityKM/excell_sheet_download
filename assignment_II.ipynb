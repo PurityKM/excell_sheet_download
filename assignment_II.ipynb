{
 "cells": [
  {
   "cell_type": "markdown",
   "metadata": {},
   "source": [
    "<h3 style=\"color: aqua;\">Data Analytics Assignment II</h3>\n",
    "<h3 style=\"color: aqua;\">GROUP MEMBERS</h3>\n",
    "<div style=\"font-size: 15px; line-height: 1;\">\n",
    "<p><li>Purity Irungu:  <span style=\"padding-left: 50px;\">PA106/G/11841/20</span></li></p>\n",
    "<p><li>Sammy Ndungu:  <span style=\"padding-left: 30px;\">PA106/G/10537/20</span></li></p\n",
    "<p><li>Anifar Mariba:  <span style=\"padding-left: 48px;\">PA106/G/10288/20</span</li></p\n",
    "<p><li>Dancan Mutembei:  <span style=\"padding-left: 15px;\">PA106/G/9644/20</span</li></>\n",
    "<p><li>Erick Gitonga:  <span style=\"padding-left: 48px;\">PA106/G/8566/20</span</li></p>\n",
    "</div></center>"
   ]
  },
  {
   "cell_type": "markdown",
   "metadata": {},
   "source": [
    "<div style=\"font-size: 15px; line-height: 1;\">\n",
    "  <p><li>import pandas library</p></li>\n",
    "  <p><li>Loaded the datasets/excel sheets one by one, checking for NaN values. Where we found NaN values we filled them with the mean <span style=\"color: aqua;\">[if it is a Super Petrol column that has NaN values, we have filled them using the mean of that Super Petrol column and same to the others. When filling NaN values we came across and error  <span style=\"color: orange;\">\"can only concatenate str (not \"int\") to str\" </span> and so we had to convert columns with numerical values (['Super Petro', 'Diesel', 'Kerosene'] for this case) to a numeric data type using pd.to_numeric function. The errors='coerce' parameter replaces the non-numeric values with NaN. If the column with NaN values has string values like ['Town'] -> fill the NaN values with string 'Unknown' or with the most common town.]</span></li></p>\n",
    "  <p>isnull().sum() -> It Returns the count of missing values in each column of the DataFrame.</p>\n",
    "  <p>fillna() -> Used in filling NaN values.</p>\n",
    "  <p>header=1 -> Will read the excel file and use the second row as the header of the DataFrame.</p>\n",
    "  <p>header=2 -> Will read the excel file and use the third row as the header of the DataFrame.</p>\n",
    "  <p>header=3 -> Will read the excel file and use the fourth row as the header of the DataFrame.</p>\n",
    "  <p>header is useful when the first rows might contain non-descriptive information or when the actual column names are in either second, third, fourth etc row.</p>\n",
    "  <p><li>Renaming of column names so that no confusion is created when merging the excel sheets. (['TOWN', 'TOWNS', 'Towns'] to ['Town']), (['Period', 'Price Period'] to ['Price Period']), (['Super', 'Super Petrol', 'KES/L'] to ['Super Petrol']), (['Automotive Diesel (AGO)', 'KES/L.1'] to ['Diesel']), (['Kerosene (DPK)', ' KShs/L .2', 'KES/L.2'] to ['Kerosene']).</li></p>\n",
    "  <p><li>Sliced every DataFrame using .loc[:, 'Town':'Kerosene'] because we wanted to select a specific subset of columns within a DataFrame and because those columns were common to all DataFrame or excel files hence making merging easier.</li></p>\n",
    "  <p><li>Merged all the loaded data.</li></p>\n",
    "</div>\n"
   ]
  },
  {
   "cell_type": "code",
   "execution_count": 5,
   "metadata": {},
   "outputs": [],
   "source": [
    "import urllib.request\n",
    "import os\n",
    "\n",
    "import matplotlib.pyplot as plt\n",
    "import pandas as pd"
   ]
  },
  {
   "cell_type": "markdown",
   "metadata": {},
   "source": [
    "## Bonus Question\n",
    " ### Write a Python script to download all the Excel Sheets, load all the Excel Sheets and analyze the average price of super petrol across the different towns"
   ]
  },
  {
   "cell_type": "code",
   "execution_count": 7,
   "metadata": {},
   "outputs": [
    {
     "name": "stdout",
     "output_type": "stream",
     "text": [
      "Download failed: https://www.epra.go.ke/wp-content/uploads/2020/10/15th-January-14th-February-2022.xlsx ::: <urlopen error [Errno 2] No such file or directory>\n"
     ]
    }
   ],
   "source": [
    "script_directory = os.getcwd()  # Use the current working directory\n",
    "\n",
    "def download(url):\n",
    "    \n",
    "    \n",
    "    # Specify the directory to save the downloaded files (same directory as the script)\n",
    "    path = script_directory\n",
    "    \n",
    "    # Extract the file name from the URL\n",
    "    file_name = os.path.basename(url).replace(\"-\", \"_\")\n",
    "    \n",
    "    # Create the full file path\n",
    "    file_location = os.path.join(path, file_name)\n",
    "    \n",
    "    try:\n",
    "        \n",
    "        # Download the file using urllib\n",
    "        urllib.request.urlretrieve(url, file_location)\n",
    "        print(f\"Downloaded Sheet:  {file_name}\")\n",
    "     \n",
    "    # Handle download failures   \n",
    "    except Exception as e:\n",
    "        print(f\"Download failed: {url} ::: {e}\")\n",
    "        \n",
    " # List of file sheet URLs  to download     \n",
    "file_links = [\n",
    "                  \"https://www.epra.go.ke/wp-content/uploads/2020/10/15th-January-14th-February-2022.xlsx\",\n",
    "                #   \"https://www.epra.go.ke/wp-content/uploads/2020/10/15th-February-14th-March-2022_Website.xlsx\",\n",
    "                #   \"https://www.epra.go.ke/wp-content/uploads/2020/10/15th-March-2022-to-April-2022.xlsx\",\n",
    "                #   \"https://www.epra.go.ke/wp-content/uploads/2020/07/15th-April-2022-14th-May-2022.csv\",\n",
    "                #   \"https://www.epra.go.ke/wp-content/uploads/2020/07/Pump-Prices11-15-May-14-June-2022_Website.xlsx\",\n",
    "                #   \"https://www.epra.go.ke/wp-content/uploads/2020/07/Pump-Prices-15-June-14-July-2022_Website.xlsx\",\n",
    "                #   \"https://www.epra.go.ke/wp-content/uploads/2020/07/Prices-july-to-August-2022.xlsx\",\n",
    "                #   \"https://www.epra.go.ke/wp-content/uploads/2020/07/Prices-August-to-September-2022.xlsx\",\n",
    "                #   \"https://www.epra.go.ke/wp-content/uploads/2020/07/Prices-september-to-october-2022.xlsx\",\n",
    "                #   \"https://www.epra.go.ke/wp-content/uploads/2020/07/Prices-Oct-to-Nov-2022.xlsx\",\n",
    "                #   \"https://www.epra.go.ke/wp-content/uploads/2020/07/Prices-15th-Nov-14th-Dec-2022.xlsx\",\n",
    "                #   \"https://www.epra.go.ke/wp-content/uploads/2020/07/15th-December-2022-14th-January-2023.xlsx\",\n",
    "                #   \"https://www.epra.go.ke/wp-content/uploads/2020/07/15th-January-2023-%E2%80%9314th-February-2023-11.xlsx\",\n",
    "                #   \"https://www.epra.go.ke/wp-content/uploads/2020/07/15th-January-2023-%E2%80%9314th-February-2023-11.xlsx\",\n",
    "                #   \"https://www.epra.go.ke/wp-content/uploads/2020/07/15th-January-2023-%E2%80%9314th-February-2023-11.xlsx\",\n",
    "                #   \"https://www.epra.go.ke/wp-content/uploads/2020/07/FINAL-ACTUAL-PUMP-PRICES_15th-MARCH-14th-APRIL-2023.xlsx\",\n",
    "                #   \"https://www.epra.go.ke/wp-content/uploads/2020/07/15th-April-2023-to-14th-may-2023.csv\",\n",
    "                #   \"https://www.epra.go.ke/wp-content/uploads/2020/07/15th-April-2023-to-14th-may-2023.csv\",\n",
    "                #   \"https://www.epra.go.ke/wp-content/uploads/2020/07/15th-June-2023-14th-July-2023.csv\",\n",
    "                #   \"https://www.epra.go.ke/wp-content/uploads/2020/07/July-1-July-14-2023.csv\",\n",
    "                #   \"https://www.epra.go.ke/wp-content/uploads/2020/07/Pump-Prices-15-July-14-August-2023-Website.xlsx\"\n",
    "                ]       \n",
    "# Iterate through each URL and download the Excel sheet\n",
    "for link in file_links:\n",
    "    download(link)\n",
    "    "
   ]
  },
  {
   "cell_type": "code",
   "execution_count": 17,
   "metadata": {},
   "outputs": [
    {
     "name": "stdout",
     "output_type": "stream",
     "text": [
      "                              Price Period             Town  Super Petrol  \\\n",
      "0   15th January 2022 - 14th February 2022          Mombasa        127.46   \n",
      "1   15th January 2022 - 14th February 2022           Kilifi        128.17   \n",
      "2   15th January 2022 - 14th February 2022  Likoni Mainland        127.82   \n",
      "3   15th January 2022 - 14th February 2022            Kwale        127.82   \n",
      "4   15th January 2022 - 14th February 2022          Malindi        128.39   \n",
      "\n",
      "   Diesel  Kerosene  \n",
      "0  108.36    101.29  \n",
      "1  109.07    102.01  \n",
      "2  108.71    101.65  \n",
      "3  108.71    101.65  \n",
      "4  109.27    102.21  \n",
      "Price Period    0\n",
      "Town            0\n",
      "Super Petrol    0\n",
      "Diesel          0\n",
      "Kerosene        0\n",
      "dtype: int64\n"
     ]
    }
   ],
   "source": [
    "Jan_Feb22 = pd.read_excel(\"15th_January_14th_February_2022.xlsx\");\n",
    "\n",
    "Jan_Feb22.rename(columns={'Super': 'Super Petrol'}, inplace=True)\n",
    "print(Jan_Feb22.head())\n",
    "\n",
    "missed_Jan_Feb22 = Jan_Feb22.isnull() #False for all values[means that there are no missing values (NaN or null values) in the DataFrame Jan_Feb22.]\n",
    "countnull_Jan_Feb22 = missed_Jan_Feb22.sum() #It Returns the count of missing values in each column of the DataFrame.\n",
    "\n",
    "print(countnull_Jan_Feb22)"
   ]
  },
  {
   "cell_type": "code",
   "execution_count": 18,
   "metadata": {},
   "outputs": [
    {
     "name": "stdout",
     "output_type": "stream",
     "text": [
      "                           Price Period             Town  Super Petrol  \\\n",
      "0  February 15th 2022 - March 14th 2022          Mombasa        127.46   \n",
      "1  February 15th 2022 - March 14th 2022           Kilifi        128.17   \n",
      "2  February 15th 2022 - March 14th 2022  Likoni Mainland        127.82   \n",
      "3  February 15th 2022 - March 14th 2022            Kwale        127.82   \n",
      "4  February 15th 2022 - March 14th 2022          Malindi        128.39   \n",
      "\n",
      "   Diesel  Kerosene  \n",
      "0  108.36    101.29  \n",
      "1  109.07    102.01  \n",
      "2  108.71    101.65  \n",
      "3  108.71    101.65  \n",
      "4  109.27    102.21  \n"
     ]
    },
    {
     "data": {
      "text/plain": [
       "Price Period    0\n",
       "Town            0\n",
       "Super Petrol    0\n",
       "Diesel          0\n",
       "Kerosene        0\n",
       "dtype: int64"
      ]
     },
     "execution_count": 18,
     "metadata": {},
     "output_type": "execute_result"
    }
   ],
   "source": [
    "Feb_Mar22 = pd.read_excel(\"15th_February_14th_March_2022_Website.xlsx\")\n",
    "Feb_Mar22.rename(columns={'Super': 'Super Petrol'}, inplace=True)\n",
    "print(Feb_Mar22.head())\n",
    "\n",
    "Feb_Mar22.isnull().sum() #It Returns the count of missing values in each column of the DataFrame."
   ]
  },
  {
   "cell_type": "code",
   "execution_count": 19,
   "metadata": {},
   "outputs": [
    {
     "name": "stdout",
     "output_type": "stream",
     "text": [
      "                    Price Period             Town  Super Petrol  Diesel  \\\n",
      "0  15th March 2022 to April 2022          Mombasa        132.46  113.36   \n",
      "1  15th March 2022 to April 2022           Kilifi        133.17  114.07   \n",
      "2  15th March 2022 to April 2022  Likoni Mainland        132.82  113.71   \n",
      "3  15th March 2022 to April 2022            Kwale        132.82  113.71   \n",
      "4  15th March 2022 to April 2022          Malindi        133.38  114.27   \n",
      "\n",
      "   Kerosene  \n",
      "0    101.29  \n",
      "1    102.01  \n",
      "2    101.65  \n",
      "3    101.65  \n",
      "4    102.21  \n"
     ]
    },
    {
     "data": {
      "text/plain": [
       "Price Period    0\n",
       "Town            0\n",
       "Super Petrol    0\n",
       "Diesel          0\n",
       "Kerosene        0\n",
       "dtype: int64"
      ]
     },
     "execution_count": 19,
     "metadata": {},
     "output_type": "execute_result"
    }
   ],
   "source": [
    "Mar_Apr22 = pd.read_excel(\"15th_March_2022_to_April_2022.xlsx\")\n",
    "Mar_Apr22.rename(columns={'Period': 'Price Period', 'Super': 'Super Petrol'}, inplace=True)\n",
    "print(Mar_Apr22.head())\n",
    "Mar_Apr22.isnull().sum() # No NaN values in the DataFrame"
   ]
  },
  {
   "cell_type": "code",
   "execution_count": 20,
   "metadata": {},
   "outputs": [
    {
     "name": "stdout",
     "output_type": "stream",
     "text": [
      "                       Price Period             Town  Super Petrol  Diesel  \\\n",
      "0  15th April 2022 to 14th May 2022          Mombasa        142.36  123.26   \n",
      "1  15th April 2022 to 14th May 2022           Kilifi        143.07  123.97   \n",
      "2  15th April 2022 to 14th May 2022  Likoni Mainland        142.72  123.61   \n",
      "3  15th April 2022 to 14th May 2022            Kwale        142.72  123.61   \n",
      "4  15th April 2022 to 14th May 2022          Malindi        143.28  124.17   \n",
      "\n",
      "   Kerosene  \n",
      "0    111.19  \n",
      "1    111.91  \n",
      "2    111.55  \n",
      "3    111.55  \n",
      "4    112.11  \n"
     ]
    },
    {
     "data": {
      "text/plain": [
       "Price Period    0\n",
       "Town            0\n",
       "Super Petrol    0\n",
       "Diesel          0\n",
       "Kerosene        0\n",
       "dtype: int64"
      ]
     },
     "execution_count": 20,
     "metadata": {},
     "output_type": "execute_result"
    }
   ],
   "source": [
    "Apr_May22 = pd.read_csv(\"15th_April_2022_14th_May_2022.csv\")\n",
    "Apr_May22.rename(columns={'Super': 'Super Petrol'}, inplace=True)\n",
    "print(Apr_May22.head())\n",
    "Apr_May22.isnull().sum() # No NaN values in the DataFrame"
   ]
  },
  {
   "cell_type": "code",
   "execution_count": 21,
   "metadata": {},
   "outputs": [
    {
     "name": "stdout",
     "output_type": "stream",
     "text": [
      "                       Unnamed: 0       Unnamed: 1    Unnamed: 2 Unnamed: 3  \\\n",
      "0                    Price Period             TOWN  Super Petrol     Diesel   \n",
      "1  May 15th 2022 - June 14th 2022          Mombasa        147.86     128.76   \n",
      "2  May 15th 2022 - June 14th 2022           Kilifi        148.57     129.47   \n",
      "3  May 15th 2022 - June 14th 2022  Likoni Mainland        148.22     129.11   \n",
      "4  May 15th 2022 - June 14th 2022            Kwale        148.22     129.11   \n",
      "\n",
      "  Unnamed: 4  \n",
      "0   Kerosene  \n",
      "1     116.69  \n",
      "2     117.41  \n",
      "3     117.05  \n",
      "4     117.05  \n"
     ]
    },
    {
     "data": {
      "text/plain": [
       "Unnamed: 0    0\n",
       "Unnamed: 1    0\n",
       "Unnamed: 2    0\n",
       "Unnamed: 3    0\n",
       "Unnamed: 4    0\n",
       "dtype: int64"
      ]
     },
     "execution_count": 21,
     "metadata": {},
     "output_type": "execute_result"
    }
   ],
   "source": [
    "May_Jun22 = pd.read_excel(\"Pump_Prices11_15_May_14_June_2022_Website.xlsx\")\n",
    "print(May_Jun22.head())\n",
    "\n",
    "May_Jun22.isnull().sum() #It Returns the count of missing values in each column of the DataFrame.\n"
   ]
  },
  {
   "cell_type": "markdown",
   "metadata": {},
   "source": [
    "## Columns names  not providing a clearer structure to the data.\n",
    "### We should set header=1 to indicate that the second row is the one that contains the column names."
   ]
  },
  {
   "cell_type": "code",
   "execution_count": 22,
   "metadata": {},
   "outputs": [
    {
     "name": "stdout",
     "output_type": "stream",
     "text": [
      "                     Price Period             Town  Super Petrol  Diesel  \\\n",
      "0  May 15th 2022 - June 14th 2022          Mombasa        147.86  128.76   \n",
      "1  May 15th 2022 - June 14th 2022           Kilifi        148.57  129.47   \n",
      "2  May 15th 2022 - June 14th 2022  Likoni Mainland        148.22  129.11   \n",
      "3  May 15th 2022 - June 14th 2022            Kwale        148.22  129.11   \n",
      "4  May 15th 2022 - June 14th 2022          Malindi        148.78  129.67   \n",
      "\n",
      "   Kerosene  \n",
      "0    116.69  \n",
      "1    117.41  \n",
      "2    117.05  \n",
      "3    117.05  \n",
      "4    117.61  \n"
     ]
    },
    {
     "data": {
      "text/plain": [
       "Price Period    0\n",
       "Town            0\n",
       "Super Petrol    0\n",
       "Diesel          0\n",
       "Kerosene        0\n",
       "dtype: int64"
      ]
     },
     "execution_count": 22,
     "metadata": {},
     "output_type": "execute_result"
    }
   ],
   "source": [
    "May_Jun22_header = pd.read_excel(\"Pump_Prices11_15_May_14_June_2022_Website.xlsx\", header=1)\n",
    "May_Jun22_header.rename(columns={'TOWN': 'Town'}, inplace=True)\n",
    "print(May_Jun22_header.head()) #This will read the CSV file and use the second row as the header of the DataFrame. \n",
    "\n",
    "May_Jun22_header.isnull().sum() #It Returns the count of missing values in each column of the DataFrame."
   ]
  },
  {
   "cell_type": "code",
   "execution_count": 23,
   "metadata": {},
   "outputs": [
    {
     "name": "stdout",
     "output_type": "stream",
     "text": [
      "                        Unnamed: 0       Unnamed: 1    Unnamed: 2 Unnamed: 3  \\\n",
      "0                     Price Period             TOWN  Super Petrol     Diesel   \n",
      "1  June 15th 2022 - July 14th 2022          Mombasa        156.86     137.76   \n",
      "2  June 15th 2022 - July 14th 2022           Kilifi        157.57     138.47   \n",
      "3  June 15th 2022 - July 14th 2022  Likoni Mainland        157.22     138.11   \n",
      "4  June 15th 2022 - July 14th 2022            Kwale        157.22     138.11   \n",
      "\n",
      "  Unnamed: 4  \n",
      "0   Kerosene  \n",
      "1     125.69  \n",
      "2     126.41  \n",
      "3     126.05  \n",
      "4     126.05  \n"
     ]
    },
    {
     "data": {
      "text/plain": [
       "Unnamed: 0    0\n",
       "Unnamed: 1    0\n",
       "Unnamed: 2    0\n",
       "Unnamed: 3    0\n",
       "Unnamed: 4    0\n",
       "dtype: int64"
      ]
     },
     "execution_count": 23,
     "metadata": {},
     "output_type": "execute_result"
    }
   ],
   "source": [
    "Jun_Jul22 = pd.read_excel(\"Pump_Prices_15_June_14_July_2022_Website.xlsx\")\n",
    "print(Jun_Jul22.head())\n",
    "\n",
    "Jun_Jul22.isnull().sum() #It Returns the count of missing values in each column of the DataFrame."
   ]
  },
  {
   "cell_type": "markdown",
   "metadata": {},
   "source": [
    "## Columns names not providing a clearer structure to the data.\n",
    "### We should set header=1 to indicate that the second row is the one that contains the column names."
   ]
  },
  {
   "cell_type": "code",
   "execution_count": 24,
   "metadata": {},
   "outputs": [
    {
     "name": "stdout",
     "output_type": "stream",
     "text": [
      "                      Price Period             Town  Super Petrol  Diesel  \\\n",
      "0  June 15th 2022 - July 14th 2022          Mombasa        156.86  137.76   \n",
      "1  June 15th 2022 - July 14th 2022           Kilifi        157.57  138.47   \n",
      "2  June 15th 2022 - July 14th 2022  Likoni Mainland        157.22  138.11   \n",
      "3  June 15th 2022 - July 14th 2022            Kwale        157.22  138.11   \n",
      "\n",
      "   Kerosene  \n",
      "0    125.69  \n",
      "1    126.41  \n",
      "2    126.05  \n",
      "3    126.05  \n"
     ]
    },
    {
     "data": {
      "text/plain": [
       "Price Period    0\n",
       "Town            0\n",
       "Super Petrol    0\n",
       "Diesel          0\n",
       "Kerosene        0\n",
       "dtype: int64"
      ]
     },
     "execution_count": 24,
     "metadata": {},
     "output_type": "execute_result"
    }
   ],
   "source": [
    "Jun_Jul22_header = pd.read_excel(\"Pump_Prices_15_June_14_July_2022_Website.xlsx\", header=1)\n",
    "Jun_Jul22_header.rename(columns={'TOWN': 'Town'}, inplace=True)\n",
    "print(Jun_Jul22_header.head(4)) #This will read the CSV file and use the second row as the header of the DataFrame.\n",
    "\n",
    "Jun_Jul22_header.isnull().sum() #It Returns the count of missing values in each column of the DataFrame."
   ]
  },
  {
   "cell_type": "code",
   "execution_count": 25,
   "metadata": {},
   "outputs": [
    {
     "name": "stdout",
     "output_type": "stream",
     "text": [
      "   Unnamed: 0 15th July 2022 –14th August 2022 MAXIMUM PUMP PRICES  \\\n",
      "0         NaN                              NaN  Super Petrol (PMS)   \n",
      "1         NaN                            TOWNS               KES/L   \n",
      "2         1.0                          Mombasa              156.86   \n",
      "3         2.0                           Kilifi              157.57   \n",
      "4         3.0                  Likoni Mainland              157.22   \n",
      "\n",
      "                Unnamed: 3      Unnamed: 4  \n",
      "0  Automotive Diesel (AGO)  Kerosene (DPK)  \n",
      "1                    KES/L           KES/L  \n",
      "2                   137.76          125.69  \n",
      "3                   138.47          126.41  \n",
      "4                   138.11          126.05  \n"
     ]
    },
    {
     "data": {
      "text/plain": [
       "Unnamed: 0                          2\n",
       "15th July 2022 –14th August 2022    1\n",
       "MAXIMUM PUMP PRICES                 0\n",
       "Unnamed: 3                          0\n",
       "Unnamed: 4                          0\n",
       "dtype: int64"
      ]
     },
     "execution_count": 25,
     "metadata": {},
     "output_type": "execute_result"
    }
   ],
   "source": [
    "Jul_Aug22 = pd.read_excel(\"Prices_july_to_August_2022.xlsx\")\n",
    "print(Jul_Aug22.head())\n",
    "\n",
    "Jul_Aug22.isnull().sum()"
   ]
  },
  {
   "cell_type": "markdown",
   "metadata": {},
   "source": [
    "## Columns names  not providing a clearer structure to the data.\n",
    "### We should set header=2 to indicate that the second row is the one that contains the column names."
   ]
  },
  {
   "cell_type": "code",
   "execution_count": 26,
   "metadata": {},
   "outputs": [
    {
     "name": "stdout",
     "output_type": "stream",
     "text": [
      "   Unnamed: 0             Town  Super Petrol  Diesel  Kerosene\n",
      "0           1          Mombasa        156.86  137.76    125.69\n",
      "1           2           Kilifi        157.57  138.47    126.41\n",
      "2           3  Likoni Mainland        157.22  138.11    126.05\n",
      "3           4            Kwale        157.22  138.11    126.05\n",
      "4           5          Malindi        157.78  138.67    126.61\n"
     ]
    },
    {
     "data": {
      "text/plain": [
       "Unnamed: 0      0\n",
       "Town            0\n",
       "Super Petrol    0\n",
       "Diesel          0\n",
       "Kerosene        0\n",
       "dtype: int64"
      ]
     },
     "execution_count": 26,
     "metadata": {},
     "output_type": "execute_result"
    }
   ],
   "source": [
    "# Jul_Aug22_header = pd.read_excel(\"Prices-july-to-August-2022.xlsx\", header=1)\n",
    "Jul_Aug22_header = pd.read_excel(\"Prices_july_to_August_2022.xlsx\", header=2)\n",
    "\n",
    "# Rename columns in the DataFrame\n",
    "Jul_Aug22_header.rename(columns={'TOWNS': 'Town', 'KES/L': 'Super Petrol', 'KES/L.1': 'Diesel', 'KES/L.2': 'Kerosene'}, inplace=True)\n",
    "print(Jul_Aug22_header.head())\n",
    "\n",
    "Jul_Aug22_header.isnull().sum()\n"
   ]
  },
  {
   "cell_type": "code",
   "execution_count": 27,
   "metadata": {},
   "outputs": [
    {
     "name": "stdout",
     "output_type": "stream",
     "text": [
      "   Unnamed: 0 15th August 2022 –14th September 2022 MAXIMUM PUMP PRICES  \\\n",
      "0         NaN                                   NaN  Super Petrol (PMS)   \n",
      "1         NaN                                 TOWNS               KES/L   \n",
      "2         1.0                               Mombasa              156.86   \n",
      "3         2.0                                Kilifi              157.57   \n",
      "4         3.0                       Likoni Mainland              157.22   \n",
      "\n",
      "                Unnamed: 3      Unnamed: 4  \n",
      "0  Automotive Diesel (AGO)  Kerosene (DPK)  \n",
      "1                    KES/L           KES/L  \n",
      "2                   137.76          125.69  \n",
      "3                   138.47          126.41  \n",
      "4                   138.11          126.05  \n"
     ]
    }
   ],
   "source": [
    "Aug_Sep22 = pd.read_excel(\"Prices_August_to_September_2022.xlsx\")\n",
    "print(Aug_Sep22.head())"
   ]
  },
  {
   "cell_type": "markdown",
   "metadata": {},
   "source": [
    "## Columns names  not providing a clearer structure to the data.\n",
    "### We should set header=2 to indicate that the second row is the one that contains the column names."
   ]
  },
  {
   "cell_type": "code",
   "execution_count": 28,
   "metadata": {},
   "outputs": [
    {
     "name": "stdout",
     "output_type": "stream",
     "text": [
      "   Unnamed: 0             Town  Super Petrol  Diesel  Kerosene\n",
      "0           1          Mombasa        156.86  137.76    125.69\n",
      "1           2           Kilifi        157.57  138.47    126.41\n",
      "2           3  Likoni Mainland        157.22  138.11    126.05\n",
      "3           4            Kwale        157.22  138.11    126.05\n",
      "4           5          Malindi        157.78  138.67    126.61\n"
     ]
    },
    {
     "data": {
      "text/plain": [
       "Unnamed: 0      0\n",
       "Town            0\n",
       "Super Petrol    0\n",
       "Diesel          0\n",
       "Kerosene        0\n",
       "dtype: int64"
      ]
     },
     "execution_count": 28,
     "metadata": {},
     "output_type": "execute_result"
    }
   ],
   "source": [
    "Aug_Sep22_header = pd.read_excel(\"Prices_August_to_September_2022.xlsx\", header=2)\n",
    "\n",
    "Aug_Sep22_header.rename(columns={'TOWNS': 'Town', 'KES/L': 'Super Petrol', 'KES/L.1': 'Diesel', 'KES/L.2': 'Kerosene'}, inplace=True)\n",
    "\n",
    "print(Aug_Sep22_header.head())\n",
    "\n",
    "Aug_Sep22_header.isnull().sum()"
   ]
  },
  {
   "cell_type": "code",
   "execution_count": 29,
   "metadata": {},
   "outputs": [
    {
     "data": {
      "text/html": [
       "<div>\n",
       "<style scoped>\n",
       "    .dataframe tbody tr th:only-of-type {\n",
       "        vertical-align: middle;\n",
       "    }\n",
       "\n",
       "    .dataframe tbody tr th {\n",
       "        vertical-align: top;\n",
       "    }\n",
       "\n",
       "    .dataframe thead th {\n",
       "        text-align: right;\n",
       "    }\n",
       "</style>\n",
       "<table border=\"1\" class=\"dataframe\">\n",
       "  <thead>\n",
       "    <tr style=\"text-align: right;\">\n",
       "      <th></th>\n",
       "      <th>Unnamed: 0</th>\n",
       "      <th>15th September 2022 –14th October 2022</th>\n",
       "      <th>MAXIMUM PUMP PRICES</th>\n",
       "      <th>Unnamed: 3</th>\n",
       "      <th>Unnamed: 4</th>\n",
       "    </tr>\n",
       "  </thead>\n",
       "  <tbody>\n",
       "    <tr>\n",
       "      <th>0</th>\n",
       "      <td>NaN</td>\n",
       "      <td>NaN</td>\n",
       "      <td>Super Petrol (PMS)</td>\n",
       "      <td>Automotive Diesel (AGO)</td>\n",
       "      <td>Kerosene (DPK)</td>\n",
       "    </tr>\n",
       "    <tr>\n",
       "      <th>1</th>\n",
       "      <td>NaN</td>\n",
       "      <td>TOWNS</td>\n",
       "      <td>KES/L</td>\n",
       "      <td>KES/L</td>\n",
       "      <td>KES/L</td>\n",
       "    </tr>\n",
       "    <tr>\n",
       "      <th>2</th>\n",
       "      <td>1.0</td>\n",
       "      <td>Mombasa</td>\n",
       "      <td>176.98</td>\n",
       "      <td>162.76</td>\n",
       "      <td>145.69</td>\n",
       "    </tr>\n",
       "    <tr>\n",
       "      <th>3</th>\n",
       "      <td>2.0</td>\n",
       "      <td>Kilifi</td>\n",
       "      <td>177.69</td>\n",
       "      <td>163.47</td>\n",
       "      <td>146.41</td>\n",
       "    </tr>\n",
       "    <tr>\n",
       "      <th>4</th>\n",
       "      <td>3.0</td>\n",
       "      <td>Likoni Mainland</td>\n",
       "      <td>177.34</td>\n",
       "      <td>163.11</td>\n",
       "      <td>146.05</td>\n",
       "    </tr>\n",
       "  </tbody>\n",
       "</table>\n",
       "</div>"
      ],
      "text/plain": [
       "   Unnamed: 0 15th September 2022 –14th October 2022 MAXIMUM PUMP PRICES  \\\n",
       "0         NaN                                    NaN  Super Petrol (PMS)   \n",
       "1         NaN                                  TOWNS               KES/L   \n",
       "2         1.0                                Mombasa              176.98   \n",
       "3         2.0                                 Kilifi              177.69   \n",
       "4         3.0                        Likoni Mainland              177.34   \n",
       "\n",
       "                Unnamed: 3      Unnamed: 4  \n",
       "0  Automotive Diesel (AGO)  Kerosene (DPK)  \n",
       "1                    KES/L           KES/L  \n",
       "2                   162.76          145.69  \n",
       "3                   163.47          146.41  \n",
       "4                   163.11          146.05  "
      ]
     },
     "execution_count": 29,
     "metadata": {},
     "output_type": "execute_result"
    }
   ],
   "source": [
    "Sep_Oct22 = pd.read_excel(\"Prices_september_to_october_2022.xlsx\")\n",
    "Sep_Oct22.head()"
   ]
  },
  {
   "cell_type": "markdown",
   "metadata": {},
   "source": [
    "## Columns names  not providing a clearer structure to the data.\n",
    "### We should set header=2 to indicate that the second row is the one that contains the column names."
   ]
  },
  {
   "cell_type": "code",
   "execution_count": 30,
   "metadata": {},
   "outputs": [
    {
     "name": "stdout",
     "output_type": "stream",
     "text": [
      "   Unnamed: 0             Town  Super Petrol  Diesel  Kerosene\n",
      "0           1          Mombasa        176.98  162.76    145.69\n",
      "1           2           Kilifi        177.69  163.47    146.41\n",
      "2           3  Likoni Mainland        177.34  163.11    146.05\n",
      "3           4            Kwale        177.34  163.11    146.05\n",
      "4           5          Malindi        177.90  163.67    146.61\n"
     ]
    },
    {
     "data": {
      "text/plain": [
       "Unnamed: 0      0\n",
       "Town            0\n",
       "Super Petrol    0\n",
       "Diesel          0\n",
       "Kerosene        0\n",
       "dtype: int64"
      ]
     },
     "execution_count": 30,
     "metadata": {},
     "output_type": "execute_result"
    }
   ],
   "source": [
    "Sep_Oct22_header = pd.read_excel(\"Prices_september_to_october_2022.xlsx\", header=2)\n",
    "\n",
    "Sep_Oct22_header.rename(columns={'TOWNS': 'Town', 'KES/L': 'Super Petrol', 'KES/L.1': 'Diesel', 'KES/L.2': 'Kerosene'}, inplace=True)\n",
    "\n",
    "print(Sep_Oct22_header.head())\n",
    "\n",
    "Sep_Oct22_header.isnull().sum()"
   ]
  },
  {
   "cell_type": "code",
   "execution_count": 31,
   "metadata": {},
   "outputs": [
    {
     "name": "stdout",
     "output_type": "stream",
     "text": [
      "   Unnamed: 0 15th October 2022 –14th November 2022 MAXIMUM PUMP PRICES  \\\n",
      "0         NaN                                   NaN  Super Petrol (PMS)   \n",
      "1         NaN                                 TOWNS               KES/L   \n",
      "2         1.0                               Mombasa              175.98   \n",
      "3         2.0                                Kilifi              176.69   \n",
      "4         3.0                       Likoni Mainland              176.34   \n",
      "\n",
      "                Unnamed: 3      Unnamed: 4  \n",
      "0  Automotive Diesel (AGO)  Kerosene (DPK)  \n",
      "1                    KES/L           KES/L  \n",
      "2                   160.76          144.69  \n",
      "3                   161.47          145.41  \n",
      "4                   161.11          145.05  \n"
     ]
    }
   ],
   "source": [
    "Oct_Nov22 = pd.read_excel(\"Prices_Oct_to_Nov_2022.xlsx\")\n",
    "print(Oct_Nov22.head())"
   ]
  },
  {
   "cell_type": "markdown",
   "metadata": {},
   "source": [
    "## Columns names  not providing a clearer structure to the data.\n",
    "### We should set header=2 to indicate that the second row is the one that contains the column names."
   ]
  },
  {
   "cell_type": "code",
   "execution_count": 32,
   "metadata": {},
   "outputs": [
    {
     "name": "stdout",
     "output_type": "stream",
     "text": [
      "   Unnamed: 0             Town  Super Petrol  Diesel  Kerosene\n",
      "0           1          Mombasa        175.98  160.76    144.69\n",
      "1           2           Kilifi        176.69  161.47    145.41\n",
      "2           3  Likoni Mainland        176.34  161.11    145.05\n",
      "3           4            Kwale        176.34  161.11    145.05\n",
      "4           5          Malindi        176.90  161.67    145.61\n"
     ]
    },
    {
     "data": {
      "text/plain": [
       "Unnamed: 0      0\n",
       "Town            0\n",
       "Super Petrol    0\n",
       "Diesel          0\n",
       "Kerosene        0\n",
       "dtype: int64"
      ]
     },
     "execution_count": 32,
     "metadata": {},
     "output_type": "execute_result"
    }
   ],
   "source": [
    "Oct_Nov22_header = pd.read_excel(\"Prices_Oct_to_Nov_2022.xlsx\", header=2)\n",
    "\n",
    "Oct_Nov22_header.rename(columns={'TOWNS': 'Town', 'KES/L': 'Super Petrol', 'KES/L.1': 'Diesel', 'KES/L.2': 'Kerosene'}, inplace=True)\n",
    "\n",
    "print(Oct_Nov22_header.head())\n",
    "\n",
    "Oct_Nov22_header.isnull().sum()"
   ]
  },
  {
   "cell_type": "code",
   "execution_count": 33,
   "metadata": {},
   "outputs": [
    {
     "data": {
      "text/html": [
       "<div>\n",
       "<style scoped>\n",
       "    .dataframe tbody tr th:only-of-type {\n",
       "        vertical-align: middle;\n",
       "    }\n",
       "\n",
       "    .dataframe tbody tr th {\n",
       "        vertical-align: top;\n",
       "    }\n",
       "\n",
       "    .dataframe thead th {\n",
       "        text-align: right;\n",
       "    }\n",
       "</style>\n",
       "<table border=\"1\" class=\"dataframe\">\n",
       "  <thead>\n",
       "    <tr style=\"text-align: right;\">\n",
       "      <th></th>\n",
       "      <th>Unnamed: 0</th>\n",
       "      <th>15th November 2022 – 14th December 2022</th>\n",
       "      <th>MAXIMUM PUMP PRICES</th>\n",
       "      <th>Unnamed: 3</th>\n",
       "      <th>Unnamed: 4</th>\n",
       "    </tr>\n",
       "  </thead>\n",
       "  <tbody>\n",
       "    <tr>\n",
       "      <th>0</th>\n",
       "      <td>NaN</td>\n",
       "      <td>NaN</td>\n",
       "      <td>Super Petrol (PMS)</td>\n",
       "      <td>Automotive Diesel (AGO)</td>\n",
       "      <td>Kerosene (DPK)</td>\n",
       "    </tr>\n",
       "    <tr>\n",
       "      <th>1</th>\n",
       "      <td>NaN</td>\n",
       "      <td>TOWNS</td>\n",
       "      <td>KES/L</td>\n",
       "      <td>KES/L</td>\n",
       "      <td>KES/L</td>\n",
       "    </tr>\n",
       "    <tr>\n",
       "      <th>2</th>\n",
       "      <td>1.0</td>\n",
       "      <td>Mombasa</td>\n",
       "      <td>174.98</td>\n",
       "      <td>159.76</td>\n",
       "      <td>143.69</td>\n",
       "    </tr>\n",
       "    <tr>\n",
       "      <th>3</th>\n",
       "      <td>2.0</td>\n",
       "      <td>Kilifi</td>\n",
       "      <td>175.69</td>\n",
       "      <td>160.47</td>\n",
       "      <td>144.41</td>\n",
       "    </tr>\n",
       "    <tr>\n",
       "      <th>4</th>\n",
       "      <td>3.0</td>\n",
       "      <td>Likoni Mainland</td>\n",
       "      <td>175.34</td>\n",
       "      <td>160.11</td>\n",
       "      <td>144.05</td>\n",
       "    </tr>\n",
       "  </tbody>\n",
       "</table>\n",
       "</div>"
      ],
      "text/plain": [
       "   Unnamed: 0 15th November 2022 – 14th December 2022 MAXIMUM PUMP PRICES  \\\n",
       "0         NaN                                     NaN  Super Petrol (PMS)   \n",
       "1         NaN                                   TOWNS               KES/L   \n",
       "2         1.0                                 Mombasa              174.98   \n",
       "3         2.0                                  Kilifi              175.69   \n",
       "4         3.0                         Likoni Mainland              175.34   \n",
       "\n",
       "                Unnamed: 3      Unnamed: 4  \n",
       "0  Automotive Diesel (AGO)  Kerosene (DPK)  \n",
       "1                    KES/L           KES/L  \n",
       "2                   159.76          143.69  \n",
       "3                   160.47          144.41  \n",
       "4                   160.11          144.05  "
      ]
     },
     "execution_count": 33,
     "metadata": {},
     "output_type": "execute_result"
    }
   ],
   "source": [
    "Nov_Dec22 = pd.read_excel(\"Prices_15th_Nov_14th_Dec_2022.xlsx\")\n",
    "Nov_Dec22.head()"
   ]
  },
  {
   "cell_type": "markdown",
   "metadata": {},
   "source": [
    "## Columns names  not providing a clearer structure to the data.\n",
    "### We should set header=2 to indicate that the second row is the one that contains the column names."
   ]
  },
  {
   "cell_type": "code",
   "execution_count": 34,
   "metadata": {},
   "outputs": [
    {
     "name": "stdout",
     "output_type": "stream",
     "text": [
      "   Unnamed: 0             Town  Super Petrol  Diesel  Kerosene\n",
      "0           1          Mombasa        174.98  159.76    143.69\n",
      "1           2           Kilifi        175.69  160.47    144.41\n",
      "2           3  Likoni Mainland        175.34  160.11    144.05\n",
      "3           4            Kwale        175.34  160.11    144.05\n",
      "4           5          Malindi        175.90  160.67    144.61\n"
     ]
    },
    {
     "data": {
      "text/plain": [
       "Unnamed: 0      0\n",
       "Town            0\n",
       "Super Petrol    0\n",
       "Diesel          0\n",
       "Kerosene        0\n",
       "dtype: int64"
      ]
     },
     "execution_count": 34,
     "metadata": {},
     "output_type": "execute_result"
    }
   ],
   "source": [
    "Nov_Dec22_header = pd.read_excel(\"Prices_15th_Nov_14th_Dec_2022.xlsx\", header=2)\n",
    "\n",
    "Nov_Dec22_header.rename(columns={'TOWNS': 'Town', 'KES/L': 'Super Petrol', 'KES/L.1': 'Diesel', 'KES/L.2': 'Kerosene'}, inplace=True)\n",
    "\n",
    "print(Nov_Dec22_header.head())\n",
    "\n",
    "Nov_Dec22_header.isnull().sum()"
   ]
  },
  {
   "cell_type": "code",
   "execution_count": 35,
   "metadata": {},
   "outputs": [
    {
     "name": "stdout",
     "output_type": "stream",
     "text": [
      "   Unnamed: 0 15th December 2022 –14th January 2023 MAXIMUM PUMP PRICES  \\\n",
      "0         NaN                                   NaN  Super Petrol (PMS)   \n",
      "1         NaN                                 TOWNS               KES/L   \n",
      "2         1.0                               Mombasa              174.98   \n",
      "3         2.0                                Kilifi              175.69   \n",
      "4         3.0                       Likoni Mainland              175.34   \n",
      "\n",
      "                Unnamed: 3      Unnamed: 4  \n",
      "0  Automotive Diesel (AGO)  Kerosene (DPK)  \n",
      "1                    KES/L           KES/L  \n",
      "2                   159.76          143.69  \n",
      "3                   160.47          144.41  \n",
      "4                   160.11          144.05  \n"
     ]
    }
   ],
   "source": [
    "Dec_Jan23 = pd.read_excel(\"15th_December_2022_14th_January_2023.xlsx\")\n",
    "print(Dec_Jan23.head())"
   ]
  },
  {
   "cell_type": "markdown",
   "metadata": {},
   "source": [
    "## Columns names  not providing a clearer structure to the data.\n",
    "### We should set header=2 to indicate that the second row is the one that contains the column names."
   ]
  },
  {
   "cell_type": "code",
   "execution_count": 36,
   "metadata": {},
   "outputs": [
    {
     "name": "stdout",
     "output_type": "stream",
     "text": [
      "   Unnamed: 0             Town  Super Petrol  Diesel  Kerosene\n",
      "0           1          Mombasa        174.98  159.76    143.69\n",
      "1           2           Kilifi        175.69  160.47    144.41\n",
      "2           3  Likoni Mainland        175.34  160.11    144.05\n",
      "3           4            Kwale        175.34  160.11    144.05\n",
      "4           5          Malindi        175.90  160.67    144.61\n"
     ]
    },
    {
     "data": {
      "text/plain": [
       "Unnamed: 0      0\n",
       "Town            0\n",
       "Super Petrol    0\n",
       "Diesel          0\n",
       "Kerosene        0\n",
       "dtype: int64"
      ]
     },
     "execution_count": 36,
     "metadata": {},
     "output_type": "execute_result"
    }
   ],
   "source": [
    "Dec_Jan23_header = pd.read_excel(\"15th_December_2022_14th_January_2023.xlsx\", header=2)\n",
    "Dec_Jan23_header.rename(columns={'TOWNS': 'Town', 'KES/L': 'Super Petrol', 'KES/L.1': 'Diesel', 'KES/L.2': 'Kerosene'}, inplace=True)\n",
    "\n",
    "print(Dec_Jan23_header.head())\n",
    "\n",
    "Dec_Jan23_header.isnull().sum()"
   ]
  },
  {
   "cell_type": "code",
   "execution_count": 38,
   "metadata": {},
   "outputs": [
    {
     "name": "stdout",
     "output_type": "stream",
     "text": [
      "   Unnamed: 0 15th January 2023 –14th February 2023 MAXIMUM PUMP PRICES  \\\n",
      "0         NaN                                   NaN  Super Petrol (PMS)   \n",
      "1         NaN                                 TOWNS               KES/L   \n",
      "2         1.0                               Mombasa              174.98   \n",
      "3         2.0                                Kilifi              175.69   \n",
      "4         3.0                       Likoni Mainland              175.34   \n",
      "\n",
      "                Unnamed: 3      Unnamed: 4  \n",
      "0  Automotive Diesel (AGO)  Kerosene (DPK)  \n",
      "1                    KES/L           KES/L  \n",
      "2                   159.76          143.69  \n",
      "3                   160.47          144.41  \n",
      "4                   160.11          144.05  \n"
     ]
    }
   ],
   "source": [
    "Jan_Feb23 = pd.read_excel(\"15th_January_2023_%E2%80%9314th_February_2023_11.xlsx\")\n",
    "print(Jan_Feb23.head())"
   ]
  },
  {
   "cell_type": "markdown",
   "metadata": {},
   "source": [
    "## Columns names  not  providing a clearer structure to the data.\n",
    "### We should set header=2 to indicate that the second row is the one that contains the column names."
   ]
  },
  {
   "cell_type": "code",
   "execution_count": 39,
   "metadata": {},
   "outputs": [
    {
     "name": "stdout",
     "output_type": "stream",
     "text": [
      "     Unnamed: 0             Town  Super Petrol  Diesel  Kerosene\n",
      "0             1          Mombasa        174.98  159.76    143.69\n",
      "1             2           Kilifi        175.69  160.47    144.41\n",
      "2             3  Likoni Mainland        175.34  160.11    144.05\n",
      "3             4            Kwale        175.34  160.11    144.05\n",
      "4             5          Malindi        175.90  160.67    144.61\n",
      "..          ...              ...           ...     ...       ...\n",
      "218         219           Keumbu        178.44  163.64    147.61\n",
      "219         220           Marani        178.14  163.35    147.31\n",
      "220         221           Kerina        178.50  163.71    147.68\n",
      "221         222           Ikonge        177.86  163.07    147.03\n",
      "222         223       Nyansiongo        178.26  163.47    147.43\n",
      "\n",
      "[223 rows x 5 columns]\n"
     ]
    },
    {
     "data": {
      "text/plain": [
       "Unnamed: 0      0\n",
       "Town            0\n",
       "Super Petrol    0\n",
       "Diesel          0\n",
       "Kerosene        0\n",
       "dtype: int64"
      ]
     },
     "execution_count": 39,
     "metadata": {},
     "output_type": "execute_result"
    }
   ],
   "source": [
    "Jan_Feb23_header = pd.read_excel(\"15th_January_2023_%E2%80%9314th_February_2023_11.xlsx\", header=2)\n",
    "Jan_Feb23_header.rename(columns={'TOWNS': 'Town', 'KES/L': 'Super Petrol', 'KES/L.1': 'Diesel', 'KES/L.2': 'Kerosene'}, inplace=True)\n",
    "\n",
    "print(Jan_Feb23_header)\n",
    "Jan_Feb23_header.isnull().sum()"
   ]
  },
  {
   "cell_type": "code",
   "execution_count": 40,
   "metadata": {},
   "outputs": [
    {
     "name": "stdout",
     "output_type": "stream",
     "text": [
      "   Unnamed: 0  Unnamed: 1                 Unnamed: 2     Unnamed: 3  \\\n",
      "0         NaN         NaN                        NaN            NaN   \n",
      "1         NaN         NaN  15  March - 14 April 2023            NaN   \n",
      "2         NaN         NaN                   Importer    Vessel Name   \n",
      "3         1.0         NaN               TEXAS ENERGY  MT Sealegend    \n",
      "4         2.0         NaN               ORYXENERGIES  MT  STI LOTUS   \n",
      "\n",
      "                Unnamed: 4                 Unnamed: 5 Unnamed: 6 Unnamed: 7  \\\n",
      "0                      NaN                        NaN        NaN        NaN   \n",
      "1                      NaN                        NaN        NaN        NaN   \n",
      "2  Last dates of discharge  Deemed Exchange Rate Date     Bank 1     Bank 2   \n",
      "3      2023-02-14 00:00:00        2023-02-14 00:00:00   134.4288     131.43   \n",
      "4      2023-03-03 00:00:00        2023-03-03 00:00:00   137.0016     136.99   \n",
      "\n",
      "  Unnamed: 8                         Unnamed: 9 Unnamed: 10 Unnamed: 11  \\\n",
      "0        NaN                                NaN         NaN         NaN   \n",
      "1        NaN                                NaN         NaN         NaN   \n",
      "2     Bank 3  Average Rate for Commercial Banks         CBK     Average   \n",
      "3      133.5                           133.1196         NaN    133.1196   \n",
      "4     137.75                           137.2472         NaN    137.2472   \n",
      "\n",
      "                Unnamed: 13 Unnamed: 14          Unnamed: 15 Unnamed: 16  \\\n",
      "0           NaN         NaN         NaN                  NaN         NaN   \n",
      "1           NaN         NaN         NaN                  NaN         NaN   \n",
      "2       Product    Terminal         NoR  2019-09-25 00:00:00         NaN   \n",
      "3  AGO K02/2023   KOSF/KPRL         NaN                  NaN         NaN   \n",
      "4  AGO K03/2023   KOSF/KPRL         NaN                  NaN         NaN   \n",
      "\n",
      "  Unnamed: 17  Unnamed: 18 Unnamed: 19  \n",
      "0         NaT          NaN         NaT  \n",
      "1         NaT          NaN         NaT  \n",
      "2  2019-10-24          NaN  2019-11-26  \n",
      "3         NaT          NaN         NaT  \n",
      "4         NaT          NaN         NaT  \n"
     ]
    }
   ],
   "source": [
    "Mar_Apr23 = pd.read_excel(\"FINAL_ACTUAL_PUMP_PRICES_15th_MARCH_14th_APRIL_2023.xlsx\")\n",
    "print(Mar_Apr23.head())"
   ]
  },
  {
   "cell_type": "markdown",
   "metadata": {},
   "source": [
    "## Columns names not providing a clearer structure to the data.\n",
    "### We should set header=3 to indicate that the second row is the one that contains the column names."
   ]
  },
  {
   "cell_type": "code",
   "execution_count": 147,
   "metadata": {},
   "outputs": [
    {
     "name": "stdout",
     "output_type": "stream",
     "text": [
      "   Unnamed: 0  Unnamed: 1      Importer        Vessel Name  \\\n",
      "0         1.0         NaN  TEXAS ENERGY      MT Sealegend    \n",
      "1         2.0         NaN  ORYXENERGIES      MT  STI LOTUS   \n",
      "2         3.0         NaN     E3 ENERGY       MT Serengeti   \n",
      "3         4.0         NaN     E3 ENERGY       MT Serengeti   \n",
      "4         5.0         NaN     E3 ENERGY  MT  Nakhal Silver   \n",
      "\n",
      "  Last dates of discharge Deemed Exchange Rate Date    Bank 1  Bank 2  Bank 3  \\\n",
      "0              2023-02-14                2023-02-14  134.4288  131.43  133.50   \n",
      "1              2023-03-03                2023-03-03  137.0016  136.99  137.75   \n",
      "2              2023-02-26                2023-02-27  136.0368  133.95  136.90   \n",
      "3              2023-02-26                2023-02-27  136.0368  133.95  136.90   \n",
      "4              2023-02-18                2023-02-20  134.7504  132.05  134.90   \n",
      "\n",
      "   Average Rate for Commercial Banks  CBK     Average          Product  \\\n",
      "0                         133.119600  NaN  133.119600     AGO K02/2023   \n",
      "1                         137.247200  NaN  137.247200     AGO K03/2023   \n",
      "2                         135.628933  NaN  135.628933    AGO  V02/2023   \n",
      "3                         135.628933  NaN  135.628933    AGO  V02/2023   \n",
      "4                         133.900133  NaN  133.900133  JETA-1 K03/2023   \n",
      "\n",
      "    Terminal                 NoR 2019-09-25 00:00:00 Unnamed: 16  \\\n",
      "0  KOSF/KPRL                 NaT                 NaN         NaN   \n",
      "1  KOSF/KPRL                 NaT                 NaN         NaN   \n",
      "2       KOSF 2019-12-09 15:54:00                AGO     V08/2019   \n",
      "3       VTTI                 NaT                 NaN         NaN   \n",
      "4  KOSF/KPRL                 NaT                 NaN         NaN   \n",
      "\n",
      "   2019-10-24 00:00:00  Unnamed: 18  2019-11-26 00:00:00  \n",
      "0                  NaN          NaN                  NaN  \n",
      "1                  NaN          NaN                  NaN  \n",
      "2                  NaN          NaN                  NaN  \n",
      "3                  NaN          NaN                  NaN  \n",
      "4                  NaN          NaN                  NaN  \n"
     ]
    }
   ],
   "source": [
    "Mar_Apr23_header = pd.read_excel(\"FINAL_ACTUAL_PUMP_PRICES_15th_MARCH_14th_APRIL_2023.xlsx\", header=3)\n",
    "print(Mar_Apr23_header.head())\n",
    "Mar_Apr23_header.isnull().sum()"
   ]
  },
  {
   "cell_type": "code",
   "execution_count": 41,
   "metadata": {},
   "outputs": [
    {
     "name": "stdout",
     "output_type": "stream",
     "text": [
      "   Unnamed: 0 15th  April 2023 to 14th  May 2023  MAXIMUM PUMP PRICES  \\\n",
      "0         NaN                                NaN  Super\\nPetrol (PMS)   \n",
      "1         NaN                              TOWNS               Ksh./L   \n",
      "2         1.0                            Mombasa               176.98   \n",
      "3         2.0                             Kilifi               177.69   \n",
      "4         3.0                    Likoni Mainland               177.34   \n",
      "\n",
      "                 Unnamed: 3      Unnamed: 4  Unnamed: 5  Unnamed: 6  \\\n",
      "0  Automotive\\nDiesel (AGO)  Kerosene (DPK)         NaN         NaN   \n",
      "1                    Ksh./L          Ksh./L         NaN        75.0   \n",
      "2                    159.76          143.69         NaN        76.0   \n",
      "3                    160.47          144.41         NaN        77.0   \n",
      "4                    160.11          144.05         NaN        78.0   \n",
      "\n",
      "  15th  April 2023 ?\\n14th  May 2023 MAXIMUM PUMP PRICES.1  \\\n",
      "0                                NaN   Super\\nPetrol (PMS)   \n",
      "1                             Gilgil                178.58   \n",
      "2                            Mogotio                178.57   \n",
      "3                               Molo                178.65   \n",
      "4                        Olenguruone                179.36   \n",
      "\n",
      "                 Unnamed: 9     Unnamed: 10  Unnamed: 11  Unnamed: 12  \\\n",
      "0  Automotive\\nDiesel (AGO)  Kerosene (DPK)          NaN          NaN   \n",
      "1                    161.79          145.76          NaN        150.0   \n",
      "2                    161.78          145.74          NaN        151.0   \n",
      "3                    161.86          145.83          NaN        152.0   \n",
      "4                    162.56          146.53          NaN        153.0   \n",
      "\n",
      "  15th  April 2023 ?\\n14th  May 2023.1 MAXIMUM PUMP PRICES.2  \\\n",
      "0                                  NaN   Super\\nPetrol (PMS)   \n",
      "1                              Kabiyet                179.51   \n",
      "2                             Cheptulu                179.93   \n",
      "3                               Songor                180.47   \n",
      "4                            Kapcherop                180.11   \n",
      "\n",
      "                Unnamed: 15     Unnamed: 16  \n",
      "0  Automotive\\nDiesel (AGO)  Kerosene (DPK)  \n",
      "1                    162.72          146.67  \n",
      "2                    163.15           147.1  \n",
      "3                    163.69          147.65  \n",
      "4                    163.33          147.28  \n"
     ]
    }
   ],
   "source": [
    "Apr_May23 = pd.read_csv(\"15th_April_2023_to_14th_may_2023.csv\")\n",
    "print(Apr_May23.head())"
   ]
  },
  {
   "cell_type": "markdown",
   "metadata": {},
   "source": [
    "## Columns names not  providing a clearer structure to the data.\n",
    "### We should set header=2 to indicate that the second row is the one that contains the column names."
   ]
  },
  {
   "cell_type": "code",
   "execution_count": 42,
   "metadata": {},
   "outputs": [
    {
     "name": "stdout",
     "output_type": "stream",
     "text": [
      "   Unnamed: 0             Town  Super Petrol  Diesel  Kerosene  Unnamed: 5  \\\n",
      "0         1.0          Mombasa        176.98  159.76    143.69         NaN   \n",
      "1         2.0           Kilifi        177.69  160.47    144.41         NaN   \n",
      "2         3.0  Likoni Mainland        177.34  160.11    144.05         NaN   \n",
      "3         4.0            Kwale        177.34  160.11    144.05         NaN   \n",
      "4         5.0          Malindi        177.90  160.67    144.61         NaN   \n",
      "\n",
      "     75       Gilgil  178.58  161.79  145.76  Unnamed: 11    150    Kabiyet  \\\n",
      "0  76.0      Mogotio  178.57  161.78  145.74          NaN  151.0   Cheptulu   \n",
      "1  77.0         Molo  178.65  161.86  145.83          NaN  152.0     Songor   \n",
      "2  78.0  Olenguruone  179.36  162.56  146.53          NaN  153.0  Kapcherop   \n",
      "3  79.0     Londiani  178.88  162.09  146.05          NaN  154.0   Sambalat   \n",
      "4  80.0    Nyahururu  178.87  162.08  146.04          NaN  155.0      Arror   \n",
      "\n",
      "   179.51  162.72  146.67  \n",
      "0  179.93  163.15  147.10  \n",
      "1  180.47  163.69  147.65  \n",
      "2  180.11  163.33  147.28  \n",
      "3  180.79  164.01  147.97  \n",
      "4  180.45  163.67  147.61  \n"
     ]
    }
   ],
   "source": [
    "Apr_May23_header = pd.read_csv(\"15th_April_2023_to_14th_may_2023.csv\", header=2)\n",
    "Apr_May23_header.rename(columns={'TOWNS': 'Town' ,'Ksh./L': 'Super Petrol', 'Ksh./L.1': 'Diesel', 'Ksh./L.2': 'Kerosene'}, inplace=True)\n",
    "print(Apr_May23_header.head())\n",
    "\n",
    "# Apr_May23_header.isnull().sum()"
   ]
  },
  {
   "cell_type": "code",
   "execution_count": 43,
   "metadata": {},
   "outputs": [],
   "source": [
    "#  pd.to_numeric function -> convert columns with numerical values to a numeric data type.\n",
    "# The errors='coerce' parameter replaces the non-numeric values with NaN.\n",
    "\n",
    "Apr_May23_header['Diesel'] = pd.to_numeric(Apr_May23_header['Diesel'], errors='coerce')\n",
    "Apr_May23_header['Super Petrol'] = pd.to_numeric(Apr_May23_header['Super Petrol'], errors='coerce')\n",
    "Apr_May23_header['Kerosene'] = pd.to_numeric(Apr_May23_header['Kerosene'], errors='coerce')"
   ]
  },
  {
   "cell_type": "code",
   "execution_count": 44,
   "metadata": {},
   "outputs": [
    {
     "name": "stdout",
     "output_type": "stream",
     "text": [
      "The Diesel Mean: 164.94864864864866\n",
      "The Kerosene Mean: 148.8847297297297\n",
      "The Super Petrol Mean: 182.22094594594594\n"
     ]
    }
   ],
   "source": [
    "print(\"The Diesel Mean:\", Apr_May23_header['Diesel'].mean())\n",
    "print(\"The Kerosene Mean:\", Apr_May23_header['Kerosene'].mean())\n",
    "print(\"The Super Petrol Mean:\", Apr_May23_header['Super Petrol'].mean())"
   ]
  },
  {
   "cell_type": "code",
   "execution_count": 45,
   "metadata": {},
   "outputs": [],
   "source": [
    "# Specify the columns you want to fill with the mean\n",
    "Apr_May23_header['Super Petrol'] = Apr_May23_header['Super Petrol'].fillna(Apr_May23_header['Super Petrol'].mean())\n",
    "Apr_May23_header['Diesel'] = Apr_May23_header['Diesel'].fillna(Apr_May23_header['Diesel'].mean())\n",
    "Apr_May23_header['Kerosene'] = Apr_May23_header['Kerosene'].fillna(Apr_May23_header['Kerosene'].mean())"
   ]
  },
  {
   "cell_type": "code",
   "execution_count": 46,
   "metadata": {},
   "outputs": [],
   "source": [
    "# filling the Town Column NaN values with string 'Unknown' since no most common town(all are unique)\n",
    "Apr_May23_header['Town'].fillna('Unknown', inplace=True)"
   ]
  },
  {
   "cell_type": "code",
   "execution_count": 47,
   "metadata": {},
   "outputs": [],
   "source": [
    "Apr_May23_header = Apr_May23_header.loc[:, 'Town':'Kerosene']"
   ]
  },
  {
   "cell_type": "code",
   "execution_count": 48,
   "metadata": {},
   "outputs": [
    {
     "data": {
      "text/plain": [
       "Town            0\n",
       "Super Petrol    0\n",
       "Diesel          0\n",
       "Kerosene        0\n",
       "dtype: int64"
      ]
     },
     "execution_count": 48,
     "metadata": {},
     "output_type": "execute_result"
    }
   ],
   "source": [
    "Apr_May23_header.isnull().sum()"
   ]
  },
  {
   "cell_type": "code",
   "execution_count": 49,
   "metadata": {},
   "outputs": [
    {
     "name": "stdout",
     "output_type": "stream",
     "text": [
      "  15th June 2023- 14th July 2023                   Unnamed: 1  \\\n",
      "0                            NaN                          NaN   \n",
      "1                            NaN                                \n",
      "2                            NaN                        TOWNS   \n",
      "3                              1                      Mombasa   \n",
      "4                              2                       Kilifi   \n",
      "\n",
      "            Unnamed: 2               Unnamed: 3     Unnamed: 4  \n",
      "0  MAXIMUM PUMP PRICES                      NaN            NaN  \n",
      "1   Super Petrol (PMS)  Automotive Diesel (AGO)  Kerosene (IK)  \n",
      "2              KShs/L                   KShs/L         KShs/L   \n",
      "3                179.2                   164.45         158.65  \n",
      "4               179.92                   165.16         159.36  \n"
     ]
    }
   ],
   "source": [
    "Jun_Jul23 = pd.read_csv(\"15th_June_2023_14th_July_2023.csv\")\n",
    "print(Jun_Jul23.head())"
   ]
  },
  {
   "cell_type": "markdown",
   "metadata": {},
   "source": [
    "## Columns names not  providing a clearer structure to the data.\n",
    "### We should set header=3 to indicate that the second row is the one that contains the column names."
   ]
  },
  {
   "cell_type": "code",
   "execution_count": 50,
   "metadata": {},
   "outputs": [
    {
     "name": "stdout",
     "output_type": "stream",
     "text": [
      "  Unnamed: 0             Town Super Petrol  Diesel Kerosene\n",
      "0          1          Mombasa        179.2  164.45   158.65\n",
      "1          2           Kilifi       179.92  165.16   159.36\n",
      "2          3  Likoni Mainland       179.56  164.81   159.01\n",
      "3          4            Kwale       179.56  164.81   159.01\n",
      "4          5          Malindi       180.12  165.37   159.57\n"
     ]
    },
    {
     "data": {
      "text/plain": [
       "Unnamed: 0      18\n",
       "Town            12\n",
       "Super Petrol     6\n",
       "Diesel          12\n",
       "Kerosene        12\n",
       "dtype: int64"
      ]
     },
     "execution_count": 50,
     "metadata": {},
     "output_type": "execute_result"
    }
   ],
   "source": [
    "Jun_Jul23_header = pd.read_csv(\"15th_June_2023_14th_July_2023.csv\", header=3)\n",
    "Jun_Jul23_header.rename(columns={'                      TOWNS': 'Town', ' KShs/L ': 'Super Petrol', ' KShs/L .1': 'Diesel', ' KShs/L .2': 'Kerosene'}, inplace=True)\n",
    "\n",
    "print(Jun_Jul23_header.head())\n",
    "Jun_Jul23_header.isnull().sum()"
   ]
  },
  {
   "cell_type": "code",
   "execution_count": 51,
   "metadata": {},
   "outputs": [
    {
     "name": "stdout",
     "output_type": "stream",
     "text": [
      "              Town Super Petrol  Diesel Kerosene\n",
      "0          Mombasa        179.2  164.45   158.65\n",
      "1           Kilifi       179.92  165.16   159.36\n",
      "2  Likoni Mainland       179.56  164.81   159.01\n",
      "3            Kwale       179.56  164.81   159.01\n",
      "4          Malindi       180.12  165.37   159.57\n"
     ]
    }
   ],
   "source": [
    "Jun_Jul23_header = Jun_Jul23_header.loc[:, 'Town':'Kerosene']\n",
    "print(Jun_Jul23_header.head())"
   ]
  },
  {
   "cell_type": "code",
   "execution_count": 52,
   "metadata": {},
   "outputs": [
    {
     "name": "stdout",
     "output_type": "stream",
     "text": [
      "The Diesel Mean: 169.11130044843043\n",
      "The Kerosene Mean: 163.32372197309414\n",
      "The Super Petrol Mean: 183.62560538116594\n"
     ]
    }
   ],
   "source": [
    "#  pd.to_numeric function -> convert columns with numerical values to a numeric data type.\n",
    "# The errors='coerce' parameter replaces the non-numeric values with NaN.\n",
    "\n",
    "\n",
    "Jun_Jul23_header['Diesel'] = pd.to_numeric(Jun_Jul23_header['Diesel'], errors='coerce')\n",
    "Jun_Jul23_header['Super Petrol'] = pd.to_numeric(Jun_Jul23_header['Super Petrol'], errors='coerce')\n",
    "Jun_Jul23_header['Kerosene'] = pd.to_numeric(Jun_Jul23_header['Kerosene'], errors='coerce')\n",
    "\n",
    "\n",
    "print(\"The Diesel Mean:\", Jun_Jul23_header['Diesel'].mean())\n",
    "print(\"The Kerosene Mean:\", Jun_Jul23_header['Kerosene'].mean())\n",
    "print(\"The Super Petrol Mean:\", Jun_Jul23_header['Super Petrol'].mean())\n",
    "\n",
    "# Specify the columns you want to fill with the mean\n",
    "Jun_Jul23_header['Super Petrol'] = Jun_Jul23_header['Super Petrol'].fillna(Jun_Jul23_header['Super Petrol'].mean())\n",
    "Jun_Jul23_header['Diesel'] = Jun_Jul23_header['Diesel'].fillna(Jun_Jul23_header['Diesel'].mean())\n",
    "Jun_Jul23_header['Kerosene'] = Jun_Jul23_header['Kerosene'].fillna(Jun_Jul23_header['Kerosene'].mean())"
   ]
  },
  {
   "cell_type": "code",
   "execution_count": 53,
   "metadata": {},
   "outputs": [],
   "source": [
    "# filling the Town Column NaN values with string 'Unknown' since no most common town(all are unique)\n",
    "Jun_Jul23_header['Town'].fillna('Unknown', inplace=True)"
   ]
  },
  {
   "cell_type": "code",
   "execution_count": 54,
   "metadata": {},
   "outputs": [
    {
     "data": {
      "text/plain": [
       "Town            0\n",
       "Super Petrol    0\n",
       "Diesel          0\n",
       "Kerosene        0\n",
       "dtype: int64"
      ]
     },
     "execution_count": 54,
     "metadata": {},
     "output_type": "execute_result"
    }
   ],
   "source": [
    "Jun_Jul23_header.isnull().sum()"
   ]
  },
  {
   "cell_type": "code",
   "execution_count": 55,
   "metadata": {},
   "outputs": [
    {
     "name": "stdout",
     "output_type": "stream",
     "text": [
      "   Unnamed: 0 July 1 -July 14, 2023 MAXIMUM PUMP PRICES  \\\n",
      "0         NaN                   NaN  Super Petrol (PMS)   \n",
      "1         NaN                 TOWNS               KES/L   \n",
      "2         1.0               Mombasa              192.48   \n",
      "3         2.0                Kilifi              193.24   \n",
      "4         3.0       Likoni Mainland              192.86   \n",
      "\n",
      "                Unnamed: 3      Unnamed: 4  \n",
      "0  Automotive Diesel (AGO)  Kerosene (DPK)  \n",
      "1                    KES/L           KES/L  \n",
      "2                   176.63           170.4  \n",
      "3                    177.4          171.17  \n",
      "4                   177.02          170.79  \n"
     ]
    }
   ],
   "source": [
    "Jul1_Jul14 = pd.read_csv(\"July_1_July_14_2023.csv\")\n",
    "print(Jul1_Jul14.head())"
   ]
  },
  {
   "cell_type": "markdown",
   "metadata": {},
   "source": [
    "## Columns names not  providing a clearer structure to the data.\n",
    "### We should set header=2 to indicate that the second row is the one that contains the column names."
   ]
  },
  {
   "cell_type": "code",
   "execution_count": 56,
   "metadata": {},
   "outputs": [
    {
     "name": "stdout",
     "output_type": "stream",
     "text": [
      "   Unnamed: 0             Town  Super Petrol  Diesel  Kerosene\n",
      "0           1          Mombasa        192.48  176.63    170.40\n",
      "1           2           Kilifi        193.24  177.40    171.17\n",
      "2           3  Likoni Mainland        192.86  177.02    170.79\n",
      "3           4            Kwale        192.86  177.02    170.79\n",
      "4           5          Malindi        193.47  177.62    171.39\n"
     ]
    },
    {
     "data": {
      "text/plain": [
       "Unnamed: 0      0\n",
       "Town            0\n",
       "Super Petrol    0\n",
       "Diesel          0\n",
       "Kerosene        0\n",
       "dtype: int64"
      ]
     },
     "execution_count": 56,
     "metadata": {},
     "output_type": "execute_result"
    }
   ],
   "source": [
    "Jul1_Jul14_header = pd.read_csv(\"July_1_July_14_2023.csv\", header=2)\n",
    "Jul1_Jul14_header.rename(columns={'TOWNS': 'Town', 'KES/L': 'Super Petrol', 'KES/L.1': 'Diesel', 'KES/L.2': 'Kerosene'}, inplace=True)\n",
    "print(Jul1_Jul14_header.head())\n",
    "\n",
    "Jul1_Jul14_header.isnull().sum()"
   ]
  },
  {
   "cell_type": "code",
   "execution_count": 57,
   "metadata": {},
   "outputs": [
    {
     "name": "stdout",
     "output_type": "stream",
     "text": [
      "   Unnamed: 0                         Unnamed: 1       Unnamed: 2  \\\n",
      "0         NaN                       Price Period             TOWN   \n",
      "1         NaN  July 15th 2023 - August 14th 2023          Mombasa   \n",
      "2         NaN  July 15th 2023 - August 14th 2023           Kilifi   \n",
      "3         NaN  July 15th 2023 - August 14th 2023  Likoni Mainland   \n",
      "4         NaN  July 15th 2023 - August 14th 2023            Kwale   \n",
      "\n",
      "     Unnamed: 3  Unnamed: 4  Unnamed: 5  \n",
      "0  Super Petrol      Diesel    Kerosene  \n",
      "1    191.623637  176.628095  166.432575  \n",
      "2    192.393558  177.398016  167.192497  \n",
      "3    192.003637  177.018095  166.812575  \n",
      "4    192.003637  177.018095  166.812575  \n"
     ]
    }
   ],
   "source": [
    "Jul_Aug23 = pd.read_excel(\"Pump_Prices_15_July_14_August_2023_Website.xlsx\")\n",
    "print(Jul_Aug23.head())"
   ]
  },
  {
   "cell_type": "markdown",
   "metadata": {},
   "source": [
    "## Columns names  not providing a clearer structure to the data.\n",
    "### We should set header=1 to indicate that the second row is the one that contains the column names."
   ]
  },
  {
   "cell_type": "code",
   "execution_count": 58,
   "metadata": {},
   "outputs": [
    {
     "name": "stdout",
     "output_type": "stream",
     "text": [
      "   Sheet                       Price Period     Town  Super Petrol  \\\n",
      "0    NaN  July 15th 2023 - August 14th 2023  Mombasa    191.623637   \n",
      "1    NaN  July 15th 2023 - August 14th 2023   Kilifi    192.393558   \n",
      "\n",
      "       Diesel    Kerosene  \n",
      "0  176.628095  166.432575  \n",
      "1  177.398016  167.192497  \n"
     ]
    },
    {
     "data": {
      "text/plain": [
       "Sheet           223\n",
       "Price Period      0\n",
       "Town              0\n",
       "Super Petrol      0\n",
       "Diesel            0\n",
       "Kerosene          0\n",
       "dtype: int64"
      ]
     },
     "execution_count": 58,
     "metadata": {},
     "output_type": "execute_result"
    }
   ],
   "source": [
    "Jul_Aug23_header = pd.read_excel(\"Pump_Prices_15_July_14_August_2023_Website.xlsx\", header=1)\n",
    "Jul_Aug23_header.rename(columns={'Unnamed: 0': 'Sheet', 'TOWN': 'Town',}, inplace=True)\n",
    "\n",
    "print(Jul_Aug23_header.head(2))\n",
    "Jul_Aug23_header.isnull().sum()"
   ]
  },
  {
   "cell_type": "markdown",
   "metadata": {},
   "source": [
    "### Handling the NaN values using fillna(DataFrame.mean())"
   ]
  },
  {
   "cell_type": "code",
   "execution_count": 59,
   "metadata": {},
   "outputs": [
    {
     "name": "stdout",
     "output_type": "stream",
     "text": [
      "        Sheet                       Price Period             Town  \\\n",
      "0  171.476372  July 15th 2023 - August 14th 2023          Mombasa   \n",
      "1  171.476372  July 15th 2023 - August 14th 2023           Kilifi   \n",
      "2  171.476372  July 15th 2023 - August 14th 2023  Likoni Mainland   \n",
      "3  171.476372  July 15th 2023 - August 14th 2023            Kwale   \n",
      "4  171.476372  July 15th 2023 - August 14th 2023          Malindi   \n",
      "\n",
      "   Super Petrol      Diesel    Kerosene  \n",
      "0    191.623637  176.628095  166.432575  \n",
      "1    192.393558  177.398016  167.192497  \n",
      "2    192.003637  177.018095  166.812575  \n",
      "3    192.003637  177.018095  166.812575  \n",
      "4    192.615161  177.619619  167.414099  \n"
     ]
    }
   ],
   "source": [
    "filled_Jul_Aug23 = Jul_Aug23_header.fillna(Jul_Aug23_header['Kerosene'].mean())\n",
    "print(filled_Jul_Aug23.head())"
   ]
  },
  {
   "cell_type": "markdown",
   "metadata": {},
   "source": [
    "# Merge all the loaded data to have the all the price data in one singular dataframe"
   ]
  },
  {
   "cell_type": "code",
   "execution_count": 60,
   "metadata": {},
   "outputs": [],
   "source": [
    "# Slicing all the DataFrames for merging simplicity\n",
    "\n",
    "Jan_Feb22 = Jan_Feb22.loc[:, 'Town':'Kerosene']\n",
    "Feb_Mar22 = Feb_Mar22.loc[:, 'Town':'Kerosene']\n",
    "Mar_Apr22 = Mar_Apr22.loc[:, 'Town':'Kerosene']\n",
    "Apr_May22 = Apr_May22.loc[:, 'Town':'Kerosene']\n",
    "May_Jun22_header = May_Jun22_header.loc[:, 'Town':'Kerosene']\n",
    "Jun_Jul22_header =Jun_Jul22_header.loc[:, 'Town':'Kerosene']\n",
    "Jul_Aug22_header =Jul_Aug22_header.loc[:, 'Town':'Kerosene']\n",
    "Aug_Sep22_header =Aug_Sep22_header.loc[:, 'Town':'Kerosene']\n",
    "Sep_Oct22_header =Sep_Oct22_header.loc[:, 'Town':'Kerosene']\n",
    "Oct_Nov22_header =Oct_Nov22_header.loc[:, 'Town':'Kerosene']\n",
    "Nov_Dec22_header =Nov_Dec22_header.loc[:, 'Town':'Kerosene']\n",
    "Dec_Jan23_header =Dec_Jan23_header.loc[:, 'Town':'Kerosene']\n",
    "Jan_Feb23_header =Jan_Feb23_header.loc[:, 'Town':'Kerosene']\n",
    "Apr_May23_header =Apr_May23_header.loc[:, 'Town':'Kerosene']\n",
    "Jul1_Jul14_header =Jul1_Jul14_header.loc[:, 'Town':'Kerosene']\n",
    "\n",
    "Jul_Aug23_header = Jul_Aug23_header.loc[:, 'Town':'Kerosene']"
   ]
  },
  {
   "cell_type": "code",
   "execution_count": 61,
   "metadata": {},
   "outputs": [],
   "source": [
    "# Adding Price Period column\n",
    "\n",
    "Jan_Feb22['Price Period'] = 'January-2022'\n",
    "Feb_Mar22['Price Period'] = 'February-2022'\n",
    "Mar_Apr22['Price Period'] = 'March-2022'\n",
    "Apr_May22['Price Period'] = 'April-2022'\n",
    "May_Jun22_header['Price Period'] = 'May-2022'\n",
    "Jun_Jul22_header['Price Period'] = 'June-2022'\n",
    "Jul_Aug22_header['Price Period'] = 'July-2022'\n",
    "Aug_Sep22_header['Price Period'] = 'August-2022'\n",
    "Sep_Oct22_header['Price Period'] = 'September-2022'\n",
    "Oct_Nov22_header['Price Period'] = 'October-2022'\n",
    "Nov_Dec22_header['Price Period'] = 'November-2022'\n",
    "Dec_Jan23_header['Price Period'] = 'December-2022'\n",
    "Jan_Feb23_header['Price Period'] = 'January-2023'\n",
    "Apr_May23_header['Price Period'] = 'April-2023'\n",
    "Jun_Jul23_header['Price Period'] = 'June-2023'\n",
    "Jul_Aug23_header['Price Period'] = 'July-2023'\n",
    "Jul1_Jul14_header['Price Period'] = 'July1-July14 2023'"
   ]
  },
  {
   "cell_type": "code",
   "execution_count": 62,
   "metadata": {},
   "outputs": [
    {
     "name": "stdout",
     "output_type": "stream",
     "text": [
      "Index(['Town', 'Super Petrol', 'Diesel', 'Kerosene', 'Price Period'], dtype='object')\n",
      "Index(['Town', 'Super Petrol', 'Diesel', 'Kerosene', 'Price Period'], dtype='object')\n",
      "Index(['Town', 'Super Petrol', 'Diesel', 'Kerosene', 'Price Period'], dtype='object')\n",
      "Index(['Town', 'Super Petrol', 'Diesel', 'Kerosene', 'Price Period'], dtype='object')\n",
      "Index(['Town', 'Super Petrol', 'Diesel', 'Kerosene', 'Price Period'], dtype='object')\n",
      "Index(['Town', 'Super Petrol', 'Diesel', 'Kerosene', 'Price Period'], dtype='object')\n",
      "Index(['Town', 'Super Petrol', 'Diesel', 'Kerosene', 'Price Period'], dtype='object')\n",
      "Index(['Town', 'Super Petrol', 'Diesel', 'Kerosene', 'Price Period'], dtype='object')\n",
      "Index(['Town', 'Super Petrol', 'Diesel', 'Kerosene', 'Price Period'], dtype='object')\n",
      "Index(['Town', 'Super Petrol', 'Diesel', 'Kerosene', 'Price Period'], dtype='object')\n",
      "Index(['Town', 'Super Petrol', 'Diesel', 'Kerosene', 'Price Period'], dtype='object')\n",
      "Index(['Town', 'Super Petrol', 'Diesel', 'Kerosene', 'Price Period'], dtype='object')\n",
      "Index(['Town', 'Super Petrol', 'Diesel', 'Kerosene', 'Price Period'], dtype='object')\n",
      "Index(['Town', 'Super Petrol', 'Diesel', 'Kerosene', 'Price Period'], dtype='object')\n",
      "Index(['Town', 'Super Petrol', 'Diesel', 'Kerosene', 'Price Period'], dtype='object')\n",
      "Index(['Town', 'Super Petrol', 'Diesel', 'Kerosene', 'Price Period'], dtype='object')\n",
      "Index(['Town', 'Super Petrol', 'Diesel', 'Kerosene', 'Price Period'], dtype='object')\n"
     ]
    }
   ],
   "source": [
    "print(Jan_Feb22.columns)\n",
    "print(Feb_Mar22.columns)\n",
    "print(Mar_Apr22.columns)\n",
    "print(Apr_May22.columns)\n",
    "print(May_Jun22_header.columns)\n",
    "print(Jun_Jul22_header.columns)\n",
    "print(Jul_Aug22_header.columns)\n",
    "print(Aug_Sep22_header.columns)\n",
    "print(Sep_Oct22_header.columns)\n",
    "print(Oct_Nov22_header.columns)\n",
    "print(Nov_Dec22_header.columns)\n",
    "print(Dec_Jan23_header.columns)\n",
    "print(Jan_Feb23_header.columns)\n",
    "# print(Mar_Apr23_header.columns)\n",
    "print(Apr_May23_header.columns)\n",
    "print(Jun_Jul23_header.columns)\n",
    "print(Jul_Aug23_header.columns)\n",
    "print(Jul1_Jul14_header.columns)"
   ]
  },
  {
   "cell_type": "code",
   "execution_count": 63,
   "metadata": {},
   "outputs": [
    {
     "name": "stdout",
     "output_type": "stream",
     "text": [
      "                Town  Super Petrol      Diesel    Kerosene  Price Period\n",
      "0            Mombasa    127.460000  108.360000  101.290000  January-2022\n",
      "1             Kilifi    128.170000  109.070000  102.010000  January-2022\n",
      "2    Likoni Mainland    127.820000  108.710000  101.650000  January-2022\n",
      "3              Kwale    127.820000  108.710000  101.650000  January-2022\n",
      "4            Malindi    128.390000  109.270000  102.210000  January-2022\n",
      "..               ...           ...         ...         ...           ...\n",
      "218           Keumbu    195.538156  180.902827  170.756763     July-2023\n",
      "219           Marani    195.222728  180.587399  170.441334     July-2023\n",
      "220           Kerina    195.608031  180.972703  170.826638     July-2023\n",
      "221           Ikonge    194.909274  180.283946  170.137881     July-2023\n",
      "222       Nyansiongo    195.340504  180.715175  170.569111     July-2023\n",
      "\n",
      "[3507 rows x 5 columns]\n"
     ]
    }
   ],
   "source": [
    "merge = pd.concat([Jan_Feb22, Feb_Mar22, Mar_Apr22, Apr_May22, May_Jun22_header, Jun_Jul22_header, \n",
    "                   Jul_Aug22_header, Aug_Sep22_header, Sep_Oct22_header, Oct_Nov22_header,\n",
    "                   Nov_Dec22_header, Dec_Jan23_header, Jan_Feb23_header, Apr_May23_header,\n",
    "                   Jun_Jul23_header, Jul1_Jul14_header, Jul_Aug23_header])\n",
    "\n",
    "print(merge)"
   ]
  },
  {
   "cell_type": "code",
   "execution_count": 64,
   "metadata": {},
   "outputs": [
    {
     "name": "stdout",
     "output_type": "stream",
     "text": [
      "None\n"
     ]
    }
   ],
   "source": [
    "merge_csv = merge.to_csv(\"merged_dataset.csv\")\n",
    "print(merge_csv)"
   ]
  },
  {
   "cell_type": "markdown",
   "metadata": {},
   "source": [
    "## • Show the average price of super petrol, diesel and kerosene for each year?"
   ]
  },
  {
   "cell_type": "markdown",
   "metadata": {},
   "source": [
    "## Merge all DataFrames for year 2022"
   ]
  },
  {
   "cell_type": "code",
   "execution_count": 65,
   "metadata": {},
   "outputs": [
    {
     "name": "stdout",
     "output_type": "stream",
     "text": [
      "Super Petrol    158.575906\n",
      "Diesel          140.930759\n",
      "Kerosene        128.261866\n",
      "dtype: float64\n"
     ]
    }
   ],
   "source": [
    "merge_2022 = pd.concat([Jan_Feb22, Feb_Mar22, Mar_Apr22, Apr_May22, May_Jun22_header, Jun_Jul22_header, \n",
    "                   Jul_Aug22_header, Aug_Sep22_header, Sep_Oct22_header, Oct_Nov22_header,\n",
    "                   Nov_Dec22_header])\n",
    "average_prices_2022 = merge_2022[['Super Petrol', 'Diesel', 'Kerosene']].mean()\n",
    "print(average_prices_2022)"
   ]
  },
  {
   "cell_type": "markdown",
   "metadata": {},
   "source": [
    "## Merge all DataFrames for year 2023"
   ]
  },
  {
   "cell_type": "code",
   "execution_count": 313,
   "metadata": {},
   "outputs": [
    {
     "name": "stdout",
     "output_type": "stream",
     "text": [
      "Super Petrol    186.647412\n",
      "Diesel          171.515687\n",
      "Kerosene        160.336531\n",
      "dtype: float64\n"
     ]
    }
   ],
   "source": [
    "merged_2023 = pd.concat([Dec_Jan23_header, Jan_Feb23_header, Apr_May23_header,\n",
    "                   Jun_Jul23_header, Jul1_Jul14_header, Jul_Aug23_header])\n",
    "average_prices_2023 = merged_2023[['Super Petrol', 'Diesel', 'Kerosene']].mean()\n",
    "print(average_prices_2023)"
   ]
  },
  {
   "cell_type": "markdown",
   "metadata": {},
   "source": [
    "## • Which town has the highest super petrol price in the country over the years?"
   ]
  },
  {
   "cell_type": "code",
   "execution_count": 314,
   "metadata": {},
   "outputs": [],
   "source": [
    "# Reset the index of the DataFrame\n",
    "merge.reset_index(drop=True, inplace=True)"
   ]
  },
  {
   "cell_type": "code",
   "execution_count": 315,
   "metadata": {},
   "outputs": [
    {
     "name": "stdout",
     "output_type": "stream",
     "text": [
      "Town with the highest Super Petrol price is: Mandera\n",
      "The Price is: 183.63\n"
     ]
    }
   ],
   "source": [
    "town_mean_prices = merge.groupby('Town')['Super Petrol'].mean()\n",
    "\n",
    "max_super_petrol_index = merge['Super Petrol'].idxmax()\n",
    "\n",
    "town_with_highest_super_petrol = merge.loc[max_super_petrol_index, 'Town']\n",
    "\n",
    "print(\"Town with the highest Super Petrol price is:\", town_with_highest_super_petrol)\n",
    "highest_price_value = town_mean_prices.max()\n",
    "\n",
    "\n",
    "print(f\"The Price is: {highest_price_value:.2f}\")"
   ]
  },
  {
   "cell_type": "markdown",
   "metadata": {},
   "source": [
    "### Draw a graph to represent the following:\n",
    "#### Using a chosen graph of your choice, show the price of each month from January 2022 to date for the towns Mombasa and Nairobi."
   ]
  },
  {
   "cell_type": "code",
   "execution_count": 316,
   "metadata": {},
   "outputs": [
    {
     "data": {
      "text/plain": [
       "<Figure size 864x432 with 0 Axes>"
      ]
     },
     "metadata": {},
     "output_type": "display_data"
    },
    {
     "data": {
      "image/png": "[encoded data removed]",
      "text/plain": [
       "<Figure size 864x432 with 1 Axes>"
      ]
     },
     "metadata": {},
     "output_type": "display_data"
    }
   ],
   "source": [
    "# Filter data for Mombasa and Nairobi and for the desired date range\n",
    "filter_mombasa = merge[(merge['Town'] == 'Mombasa') & (merge['Price Period'])]\n",
    "filter_nairobi = merge[(merge['Town'] == 'Nairobi') & (merge['Price Period'])]\n",
    "\n",
    "# Combine Mombasa and Nairobi data\n",
    "towns_merged = pd.concat([filter_mombasa, filter_nairobi])\n",
    "\n",
    "# Create a line plot for each fuel type\n",
    "plt.figure(figsize=(12, 6))\n",
    "\n",
    "towns = ['Mombasa', 'Nairobi']\n",
    "fuels = ['Super Petrol', 'Diesel', 'Kerosene']\n",
    "\n",
    "plt.figure(figsize=(12, 6))\n",
    "\n",
    "for town in towns:\n",
    "    for fuel in fuels:\n",
    "        label = f'{town} - {fuel}'\n",
    "        plt.plot(towns_merged[towns_merged['Town'] == town]['Price Period'],\n",
    "                 towns_merged[towns_merged['Town'] == town][fuel],\n",
    "                 label=label, marker='o')\n",
    "\n",
    "plt.title('Fuel Prices Over Time in Mombasa and Nairobi')\n",
    "plt.xlabel('Price Period')\n",
    "plt.ylabel('Price (KES/L)')\n",
    "plt.legend()\n",
    "plt.xticks(rotation=45)  # Rotate x-axis labels for better readability\n",
    "plt.tight_layout()  # Adjust layout to prevent clipping of labels\n",
    "\n",
    "\n",
    "plt.show()"
   ]
  },
  {
   "cell_type": "markdown",
   "metadata": {},
   "source": [
    "### Using a chosen graph of your choice, show the different prices over the years for the different fuels over the years"
   ]
  },
  {
   "cell_type": "code",
   "execution_count": 340,
   "metadata": {},
   "outputs": [
    {
     "data": {
      "text/plain": [
       "<Figure size 1440x720 with 0 Axes>"
      ]
     },
     "metadata": {},
     "output_type": "display_data"
    },
    {
     "data": {
      "image/png": "[encoded data removed]",
      "text/plain": [
       "<Figure size 432x288 with 1 Axes>"
      ]
     },
     "metadata": {},
     "output_type": "display_data"
    }
   ],
   "source": [
    "# Combine/Merge average prices for both years\n",
    "average_prices_combined = pd.concat([average_prices_2022, average_prices_2023], axis=1)\n",
    "average_prices_combined.columns = ['2022', '2023']\n",
    "\n",
    "# Create a bar graph for average prices in both 2022 and 2023\n",
    "plt.figure(figsize=(20, 10))\n",
    "average_prices_combined.plot(kind='bar', color=['blue', 'green', 'red'], width=0.8)\n",
    "plt.title('Average Fuel Prices in 2022 and 2023')\n",
    "plt.xlabel('Fuel Type')\n",
    "plt.ylabel('Average Price')\n",
    "plt.xticks(rotation=45)  \n",
    "plt.legend(title='Year')\n",
    "plt.show()\n"
   ]
  },
  {
   "cell_type": "markdown",
   "metadata": {},
   "source": [
    "## Bonus Question\n",
    "### Analyze the average price of super petrol across the different towns\n"
   ]
  },
  {
   "cell_type": "code",
   "execution_count": 338,
   "metadata": {},
   "outputs": [
    {
     "name": "stdout",
     "output_type": "stream",
     "text": [
      "                            Town  Super Petrol\n",
      "0                                   183.625605\n",
      "1                          TOWNS    183.625605\n",
      "2                          Ahero    172.029437\n",
      "3                          Alale    171.423131\n",
      "4                   Archers Post    166.894573\n",
      "..                           ...           ...\n",
      "223                        Wamba    171.719954\n",
      "224                       Webuye    164.915179\n",
      "225                     Wundanji    167.791317\n",
      "226                     Wundanyi    180.070000\n",
      "227                         Ziwa    164.680457\n",
      "\n",
      "[228 rows x 2 columns]\n"
     ]
    }
   ],
   "source": [
    "# Calculate the average price of Super Petrol across different towns\n",
    "petrol_average_prices = merge.groupby('Town')['Super Petrol'].mean().reset_index()\n",
    "\n",
    "# Display the computed average prices\n",
    "print(petrol_average_prices)\n"
   ]
  }
 ],
 "metadata": {
  "kernelspec": {
   "display_name": "Python 3",
   "language": "python",
   "name": "python3"
  },
  "language_info": {
   "codemirror_mode": {
    "name": "ipython",
    "version": 3
   },
   "file_extension": ".py",
   "mimetype": "text/x-python",
   "name": "python",
   "nbconvert_exporter": "python",
   "pygments_lexer": "ipython3",
   "version": "3.9.12"
  }
 },
 "nbformat": 4,
 "nbformat_minor": 2
}
